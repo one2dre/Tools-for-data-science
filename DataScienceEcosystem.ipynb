{
 "cells": [
  {
   "cell_type": "markdown",
   "id": "737374a6-0473-40df-b950-075f1660ff7a",
   "metadata": {},
   "source": [
    "# Data Science Tools and Ecosystem"
   ]
  },
  {
   "cell_type": "markdown",
   "id": "cdf44cef-60b2-4169-8f6f-4168d3d34471",
   "metadata": {},
   "source": [
    "## In this notebook, Data Science Tools and Ecosystem are summarized"
   ]
  },
  {
   "cell_type": "markdown",
   "id": "39648a24-30ff-46d8-9104-dbaa34cc4b4e",
   "metadata": {},
   "source": [
    "### Some of the popular languages that Data Scientists use are:"
   ]
  },
  {
   "cell_type": "markdown",
   "id": "2d50cd36-63fb-4005-b1fa-52a5b5f0d1a0",
   "metadata": {},
   "source": [
    "1. Python\n",
    "2. R \n",
    "3. SQL\n"
   ]
  },
  {
   "cell_type": "markdown",
   "id": "21679717-0fc1-404b-b21e-e02f34848fa1",
   "metadata": {},
   "source": [
    "### Some of the commonly used libraries used by Data Scientists include:"
   ]
  },
  {
   "cell_type": "markdown",
   "id": "7043766d-6ba6-4b59-a804-a4e71710b798",
   "metadata": {},
   "source": [
    "1. Pandas\n",
    "2. NumPy\n",
    "3. Matplotlib"
   ]
  },
  {
   "cell_type": "markdown",
   "id": "941a9dfb-df4f-4ff7-b06a-1bf13b335ee0",
   "metadata": {},
   "source": [
    "| Data Science Tools |\n",
    "|--------------------|\n",
    "|Jupyter Notebook|\n",
    "|Rstudio|\n",
    "|Spyder|\n"
   ]
  },
  {
   "cell_type": "markdown",
   "id": "73923478-cccf-439d-9187-12d8c67e9467",
   "metadata": {},
   "source": [
    "### Below are a few examples of evaluating arithmetic expressions in Python"
   ]
  },
  {
   "cell_type": "code",
   "execution_count": 1,
   "id": "91d3c22f-a115-4cf1-8696-2da40338b661",
   "metadata": {
    "tags": []
   },
   "outputs": [
    {
     "data": {
      "text/plain": [
       "17"
      ]
     },
     "execution_count": 1,
     "metadata": {},
     "output_type": "execute_result"
    }
   ],
   "source": [
    "# This a simple arithmetic expression to mutiply then add integers\n",
    "(3*4)+5\n"
   ]
  },
  {
   "cell_type": "code",
   "execution_count": 7,
   "id": "2db2ebcd-7e3c-4b25-9e0d-8f0004b6339e",
   "metadata": {
    "tags": []
   },
   "outputs": [
    {
     "data": {
      "text/plain": [
       "3.3333333333333335"
      ]
     },
     "execution_count": 7,
     "metadata": {},
     "output_type": "execute_result"
    }
   ],
   "source": [
    "# This will convert 200 minutes to hours by diving by 60\n",
    "200/60"
   ]
  },
  {
   "cell_type": "markdown",
   "id": "b5755b41-c19b-4fc6-adbe-2b54d639e28c",
   "metadata": {},
   "source": [
    "## Objectives:\n",
    "- list popular languages Data scientist use\n",
    "- list some of the commonly used libraries by data scientists\n",
    "- created a table for 3 data science tools"
   ]
  },
  {
   "cell_type": "markdown",
   "id": "5d442572-fda8-4eb0-a251-14e6a34a3bfc",
   "metadata": {},
   "source": [
    "## Author\n",
    "Hassan Pasha"
   ]
  },
  {
   "cell_type": "code",
   "execution_count": null,
   "id": "d1c10dac-d6de-43a9-8420-36e6e7a731b6",
   "metadata": {},
   "outputs": [],
   "source": []
  }
 ],
 "metadata": {
  "kernelspec": {
   "display_name": "Python",
   "language": "python",
   "name": "conda-env-python-py"
  },
  "language_info": {
   "codemirror_mode": {
    "name": "ipython",
    "version": 3
   },
   "file_extension": ".py",
   "mimetype": "text/x-python",
   "name": "python",
   "nbconvert_exporter": "python",
   "pygments_lexer": "ipython3",
   "version": "3.7.12"
  }
 },
 "nbformat": 4,
 "nbformat_minor": 5
}
